{
 "cells": [
  {
   "cell_type": "markdown",
   "id": "8c6a2c73-1614-4cdf-8b78-7cfe9ed92a0d",
   "metadata": {},
   "source": [
    "# Juan Camilo Chaparro Castellanos\n",
    "## CC 1039466438\n",
    "## Laboratorio #1 TDSIII"
   ]
  },
  {
   "cell_type": "code",
   "execution_count": 10,
   "id": "7f09ee9f-62e3-45c1-aef7-c7533f59b3e0",
   "metadata": {},
   "outputs": [],
   "source": [
    "#librerias a utilizar\n",
    "import numpy as np\n",
    "from matplotlib.pylab import *\n",
    "#from scipy import *\n",
    "import scipy.signal as signal\n",
    "get_ipython().run_line_magic('matplotlib', 'inline')\n",
    "import matplotlib.pyplot as plt\n",
    "from scipy.io.wavfile import read, write #funciones para leer y escribir audio\n",
    "from IPython.display import Audio # para escuchar la senal\n",
    "import scipy.signal as sp"
   ]
  },
  {
   "cell_type": "markdown",
   "id": "a7a16ec0-30c7-4c2b-a111-3172cd2619c1",
   "metadata": {},
   "source": [
    "#### 1. Lectura de señales de audio, muestreo establecer numero de datos"
   ]
  },
  {
   "cell_type": "code",
   "execution_count": 11,
   "id": "84c6f650-4c2e-43d0-adc1-68e3441fea13",
   "metadata": {},
   "outputs": [],
   "source": [
    "audio1=('C4.wav') # Ruta del archivo con la senal\n",
    "fs1,x1=read(audio1) # Cargar el archivo\n",
    "x1=x1/float(max(abs(x1))) # escala la amplitud de la senal\n",
    "t1=np.arange(0, float(len(x1))/fs1, 1.0/fs1) # Vector de tiempo"
   ]
  },
  {
   "cell_type": "code",
   "execution_count": 8,
   "id": "937342d6-5fd9-4132-a398-1cc42c2b8043",
   "metadata": {},
   "outputs": [],
   "source": [
    "audio2=('D5.wav') # Ruta del archivo con la senal\n",
    "fs2,x2=read(audio2) # Cargar el archivo\n",
    "x2=x2/float(max(abs(x2))) # escala la amplitud de la senal\n",
    "t2=np.arange(0, float(len(x2))/fs2, 1.0/fs2) # Vector de tiempo"
   ]
  },
  {
   "cell_type": "code",
   "execution_count": 9,
   "id": "f2344aa8-bd62-401c-be0f-f1c87fd28e72",
   "metadata": {},
   "outputs": [],
   "source": [
    "audio3=('G4.wav') # Ruta del archivo con la senal\n",
    "fs3,x3=read(audio3) # Cargar el archivo\n",
    "x3=x3/float(max(abs(x3))) # escala la amplitud de la senal\n",
    "t3=np.arange(0, float(len(x3))/fs3, 1.0/fs3) # Vector de tiempo"
   ]
  },
  {
   "cell_type": "code",
   "execution_count": null,
   "id": "5d66acef-6356-4527-9bda-0394e468b27d",
   "metadata": {
    "editable": true,
    "slideshow": {
     "slide_type": ""
    },
    "tags": []
   },
   "outputs": [],
   "source": []
  }
 ],
 "metadata": {
  "kernelspec": {
   "display_name": "Python 3 (ipykernel)",
   "language": "python",
   "name": "python3"
  },
  "language_info": {
   "codemirror_mode": {
    "name": "ipython",
    "version": 3
   },
   "file_extension": ".py",
   "mimetype": "text/x-python",
   "name": "python",
   "nbconvert_exporter": "python",
   "pygments_lexer": "ipython3",
   "version": "3.12.3"
  }
 },
 "nbformat": 4,
 "nbformat_minor": 5
}
